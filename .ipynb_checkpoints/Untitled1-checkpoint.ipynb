{
 "cells": [
  {
   "cell_type": "code",
   "execution_count": 1,
   "metadata": {
    "collapsed": true,
    "deletable": true,
    "editable": true
   },
   "outputs": [],
   "source": [
    "import numpy as np \n",
    "import pandas as pd \n",
    "import scipy\n",
    "\n",
    "from subprocess import check_output\n",
    "import seaborn as sns"
   ]
  },
  {
   "cell_type": "code",
   "execution_count": 2,
   "metadata": {
    "collapsed": true,
    "deletable": true,
    "editable": true
   },
   "outputs": [],
   "source": [
    "import seaborn as sns\n",
    "import matplotlib.pylab as plt\n",
    "\n",
    "%matplotlib inline"
   ]
  },
  {
   "cell_type": "code",
   "execution_count": 3,
   "metadata": {
    "collapsed": true,
    "deletable": true,
    "editable": true
   },
   "outputs": [],
   "source": [
    "from sklearn.model_selection import train_test_split, ShuffleSplit\n",
    "from sklearn.model_selection import KFold, ParameterGrid, cross_val_score\n",
    "from sklearn.metrics import mean_squared_error, median_absolute_error, mean_absolute_error\n",
    "from sklearn.metrics import r2_score, explained_variance_score\n",
    "from sklearn.ensemble import GradientBoostingRegressor, RandomForestRegressor\n",
    "from sklearn.ensemble import BaggingRegressor, AdaBoostRegressor, ExtraTreesRegressor\n",
    "from sklearn.tree import DecisionTreeRegressor\n",
    "from sklearn.preprocessing import OneHotEncoder, RobustScaler\n",
    "from sklearn.pipeline import Pipeline\n",
    "from sklearn.neural_network import MLPRegressor"
   ]
  },
  {
   "cell_type": "code",
   "execution_count": 4,
   "metadata": {
    "collapsed": false,
    "deletable": true,
    "editable": true
   },
   "outputs": [
    {
     "name": "stderr",
     "output_type": "stream",
     "text": [
      "Using TensorFlow backend.\n"
     ]
    }
   ],
   "source": [
    "import keras as ks\n",
    "from keras.models import Sequential, load_model, Model\n",
    "from keras.preprocessing import sequence\n",
    "from keras.optimizers import SGD, RMSprop\n",
    "from keras.layers import Dense, Dropout, LSTM\n",
    "from keras.layers import Activation, Flatten, Input, BatchNormalization\n",
    "from keras.layers import Conv1D, MaxPooling1D, Conv2D, MaxPooling2D\n",
    "from keras.layers.embeddings import Embedding\n",
    "from keras.wrappers.scikit_learn import KerasRegressor"
   ]
  },
  {
   "cell_type": "code",
   "execution_count": 5,
   "metadata": {
    "collapsed": true,
    "deletable": true,
    "editable": true
   },
   "outputs": [],
   "source": [
    "macro = pd.read_csv('macro.csv')\n",
    "train = pd.read_csv('train.csv')\n",
    "test = pd.read_csv('test.csv')"
   ]
  },
  {
   "cell_type": "code",
   "execution_count": 6,
   "metadata": {
    "collapsed": false,
    "deletable": true,
    "editable": true
   },
   "outputs": [],
   "source": [
    "X_list_num = ['full_sq', 'num_room', 'floor', 'area_m', \n",
    "              'timestamp',\n",
    "              'preschool_education_centers_raion', 'school_education_centers_raion', \n",
    "              'children_preschool', 'children_school',\n",
    "              'shopping_centers_raion', 'healthcare_centers_raion', \n",
    "              'office_raion', 'sport_objects_raion',\n",
    "              'public_transport_station_min_walk', \n",
    "              'railroad_station_walk_min', 'railroad_station_avto_km',\n",
    "              'cafe_count_500',\n",
    "              'kremlin_km', 'workplaces_km', \n",
    "              'ID_metro', 'metro_km_avto', 'metro_min_walk', \n",
    "              'public_healthcare_km', 'shopping_centers_km', 'big_market_km',\n",
    "              'fitness_km', 'swim_pool_km', 'stadium_km', 'park_km',\n",
    "              'kindergarten_km', 'school_km', 'preschool_km', \n",
    "              'university_km', 'additional_education_km',\n",
    "              'theater_km', 'exhibition_km', 'museum_km', \n",
    "              'big_road1_km', 'big_road2_km',\n",
    "              'detention_facility_km', 'cemetery_km', 'oil_chemistry_km', 'radiation_km',\n",
    "              'raion_popul', 'work_all', 'young_all', 'ekder_all']\n",
    "X_list_cat = ['sub_area', 'ecology', 'big_market_raion']\n",
    "\n",
    "features_train = train[X_list_num]\n",
    "features_test = test[X_list_num]\n",
    "target_train = train['price_doc']"
   ]
  },
  {
   "cell_type": "code",
   "execution_count": 7,
   "metadata": {
    "collapsed": false,
    "deletable": true,
    "editable": true
   },
   "outputs": [
    {
     "name": "stderr",
     "output_type": "stream",
     "text": [
      "/usr/local/lib/python2.7/dist-packages/ipykernel/__main__.py:7: SettingWithCopyWarning: \n",
      "A value is trying to be set on a copy of a slice from a DataFrame.\n",
      "Try using .loc[row_indexer,col_indexer] = value instead\n",
      "\n",
      "See the caveats in the documentation: http://pandas.pydata.org/pandas-docs/stable/indexing.html#indexing-view-versus-copy\n",
      "/usr/local/lib/python2.7/dist-packages/ipykernel/__main__.py:10: SettingWithCopyWarning: \n",
      "A value is trying to be set on a copy of a slice from a DataFrame.\n",
      "Try using .loc[row_indexer,col_indexer] = value instead\n",
      "\n",
      "See the caveats in the documentation: http://pandas.pydata.org/pandas-docs/stable/indexing.html#indexing-view-versus-copy\n"
     ]
    },
    {
     "data": {
      "text/plain": [
       "20899"
      ]
     },
     "execution_count": 7,
     "metadata": {},
     "output_type": "execute_result"
    }
   ],
   "source": [
    "df = pd.DataFrame(features_train, columns=X_list_num)\n",
    "df['prices'] = target_train\n",
    "\n",
    "df = df.dropna(subset=['num_room'])\n",
    "\n",
    "df['metro_min_walk'] = df['metro_min_walk'].interpolate(method='linear')\n",
    "features_test['metro_min_walk'] = features_test['metro_min_walk'].interpolate(method='linear')\n",
    "\n",
    "df['railroad_station_walk_min'] = df['railroad_station_walk_min'].interpolate(method='linear')\n",
    "features_test['railroad_station_walk_min'] = \\\n",
    "features_test['railroad_station_walk_min'].interpolate(method='linear')\n",
    "\n",
    "df['floor'] = df['floor'].fillna(df['floor'].median())\n",
    "len(df)"
   ]
  },
  {
   "cell_type": "code",
   "execution_count": 8,
   "metadata": {
    "collapsed": true,
    "deletable": true,
    "editable": true
   },
   "outputs": [],
   "source": [
    "ID_metro_cat = pd.factorize(df['ID_metro'])\n",
    "df['ID_metro'] = ID_metro_cat[0]"
   ]
  },
  {
   "cell_type": "code",
   "execution_count": 9,
   "metadata": {
    "collapsed": false,
    "deletable": true,
    "editable": true
   },
   "outputs": [
    {
     "name": "stderr",
     "output_type": "stream",
     "text": [
      "/usr/local/lib/python2.7/dist-packages/pandas/core/generic.py:3554: SettingWithCopyWarning: \n",
      "A value is trying to be set on a copy of a slice from a DataFrame\n",
      "\n",
      "See the caveats in the documentation: http://pandas.pydata.org/pandas-docs/stable/indexing.html#indexing-view-versus-copy\n",
      "  self._update_inplace(new_data)\n"
     ]
    }
   ],
   "source": [
    "ID_metro_pairs = dict(zip(list(ID_metro_cat[1]), list(set(ID_metro_cat[0]))))\n",
    "ID_metro_pairs[224] = 219\n",
    "features_test['ID_metro'].replace(ID_metro_pairs,inplace=True)"
   ]
  },
  {
   "cell_type": "code",
   "execution_count": 10,
   "metadata": {
    "collapsed": true,
    "deletable": true,
    "editable": true
   },
   "outputs": [],
   "source": [
    "usdrub_pairs = dict(zip(list(macro['timestamp']), list(macro['usdrub'])))"
   ]
  },
  {
   "cell_type": "code",
   "execution_count": 11,
   "metadata": {
    "collapsed": true,
    "deletable": true,
    "editable": true
   },
   "outputs": [],
   "source": [
    "df['timestamp'].replace(usdrub_pairs,inplace=True)\n",
    "features_test['timestamp'].replace(usdrub_pairs,inplace=True)"
   ]
  },
  {
   "cell_type": "code",
   "execution_count": 12,
   "metadata": {
    "collapsed": false,
    "deletable": true,
    "editable": true
   },
   "outputs": [
    {
     "name": "stderr",
     "output_type": "stream",
     "text": [
      "/usr/local/lib/python2.7/dist-packages/pandas/core/frame.py:2834: SettingWithCopyWarning: \n",
      "A value is trying to be set on a copy of a slice from a DataFrame\n",
      "\n",
      "See the caveats in the documentation: http://pandas.pydata.org/pandas-docs/stable/indexing.html#indexing-view-versus-copy\n",
      "  **kwargs)\n"
     ]
    }
   ],
   "source": [
    "df.rename(columns={'timestamp' : 'usdrub'}, inplace=True)\n",
    "features_test.rename(columns={'timestamp' : 'usdrub'}, inplace=True)"
   ]
  },
  {
   "cell_type": "code",
   "execution_count": 13,
   "metadata": {
    "collapsed": false,
    "deletable": true,
    "editable": true
   },
   "outputs": [
    {
     "data": {
      "text/plain": [
       "full_sq                              0.593829\n",
       "num_room                             0.476337\n",
       "kremlin_km                          -0.290126\n",
       "sport_objects_raion                  0.256412\n",
       "ID_metro                             0.250502\n",
       "stadium_km                          -0.238431\n",
       "detention_facility_km               -0.233395\n",
       "university_km                       -0.222964\n",
       "theater_km                          -0.222873\n",
       "workplaces_km                       -0.220889\n",
       "swim_pool_km                        -0.220480\n",
       "exhibition_km                       -0.212144\n",
       "radiation_km                        -0.208256\n",
       "museum_km                           -0.203846\n",
       "park_km                             -0.201636\n",
       "metro_min_walk                      -0.200058\n",
       "fitness_km                          -0.197702\n",
       "metro_km_avto                       -0.194751\n",
       "school_education_centers_raion       0.193896\n",
       "healthcare_centers_raion             0.185419\n",
       "shopping_centers_km                 -0.182459\n",
       "public_healthcare_km                -0.182388\n",
       "big_road2_km                        -0.178865\n",
       "ekder_all                            0.169331\n",
       "area_m                              -0.167851\n",
       "school_km                           -0.158775\n",
       "preschool_education_centers_raion    0.157762\n",
       "preschool_km                        -0.157079\n",
       "office_raion                         0.149137\n",
       "additional_education_km             -0.146074\n",
       "raion_popul                          0.145984\n",
       "kindergarten_km                     -0.141627\n",
       "shopping_centers_raion               0.140370\n",
       "work_all                             0.136761\n",
       "railroad_station_walk_min           -0.135099\n",
       "oil_chemistry_km                    -0.134873\n",
       "children_school                      0.132915\n",
       "railroad_station_avto_km            -0.132209\n",
       "young_all                            0.131324\n",
       "children_preschool                   0.129064\n",
       "public_transport_station_min_walk   -0.128647\n",
       "floor                                0.118989\n",
       "cafe_count_500                       0.117084\n",
       "big_road1_km                        -0.098968\n",
       "usdrub                               0.069506\n",
       "big_market_km                       -0.069257\n",
       "cemetery_km                         -0.042413\n",
       "Name: prices, dtype: float64"
      ]
     },
     "execution_count": 13,
     "metadata": {},
     "output_type": "execute_result"
    }
   ],
   "source": [
    "pearson = df.corr(method='pearson')\n",
    "corr_with_prices = pearson.ix[-1][:-1]\n",
    "corr_with_prices[abs(corr_with_prices).argsort()[::-1]]"
   ]
  },
  {
   "cell_type": "code",
   "execution_count": 14,
   "metadata": {
    "collapsed": false,
    "deletable": true,
    "editable": true
   },
   "outputs": [
    {
     "data": {
      "image/png": "[encoded data removed]",
      "text/plain": [
       "<matplotlib.figure.Figure at 0x7f7711800f90>"
      ]
     },
     "metadata": {},
     "output_type": "display_data"
    }
   ],
   "source": [
    "corrmat = df.corr(method='pearson')\n",
    "sns.heatmap(corrmat)\n",
    "sns.plt.show()"
   ]
  },
  {
   "cell_type": "code",
   "execution_count": 15,
   "metadata": {
    "collapsed": false,
    "deletable": true,
    "editable": true
   },
   "outputs": [
    {
     "name": "stdout",
     "output_type": "stream",
     "text": [
      "office_raion              work_all                    0.000995\n",
      "work_all                  office_raion                0.000995\n",
      "museum_km                 floor                       0.001032\n",
      "floor                     museum_km                   0.001032\n",
      "school_km                 big_road1_km                0.001245\n",
      "big_road1_km              school_km                   0.001245\n",
      "                          full_sq                     0.001387\n",
      "full_sq                   big_road1_km                0.001387\n",
      "num_room                  cemetery_km                 0.001493\n",
      "cemetery_km               num_room                    0.001493\n",
      "office_raion              children_preschool          0.001524\n",
      "children_preschool        office_raion                0.001524\n",
      "big_road1_km              museum_km                   0.001755\n",
      "museum_km                 big_road1_km                0.001755\n",
      "big_road1_km              public_healthcare_km        0.001900\n",
      "public_healthcare_km      big_road1_km                0.001900\n",
      "university_km             floor                       0.001944\n",
      "floor                     university_km               0.001944\n",
      "railroad_station_avto_km  floor                       0.002140\n",
      "floor                     railroad_station_avto_km    0.002140\n",
      "usdrub                    floor                       0.002289\n",
      "floor                     usdrub                      0.002289\n",
      "usdrub                    sport_objects_raion         0.002519\n",
      "sport_objects_raion       usdrub                      0.002519\n",
      "big_road1_km              preschool_km                0.003234\n",
      "preschool_km              big_road1_km                0.003234\n",
      "children_preschool        cafe_count_500              0.003271\n",
      "cafe_count_500            children_preschool          0.003271\n",
      "usdrub                    big_market_km               0.004495\n",
      "big_market_km             usdrub                      0.004495\n",
      "                                                        ...   \n",
      "usdrub                    usdrub                      1.000000\n",
      "area_m                    area_m                      1.000000\n",
      "floor                     floor                       1.000000\n",
      "num_room                  num_room                    1.000000\n",
      "healthcare_centers_raion  healthcare_centers_raion    1.000000\n",
      "ekder_all                 ekder_all                   1.000000\n",
      "public_healthcare_km      public_healthcare_km        1.000000\n",
      "big_market_km             big_market_km               1.000000\n",
      "work_all                  work_all                    1.000000\n",
      "raion_popul               raion_popul                 1.000000\n",
      "radiation_km              radiation_km                1.000000\n",
      "oil_chemistry_km          oil_chemistry_km            1.000000\n",
      "cemetery_km               cemetery_km                 1.000000\n",
      "detention_facility_km     detention_facility_km       1.000000\n",
      "big_road2_km              big_road2_km                1.000000\n",
      "big_road1_km              big_road1_km                1.000000\n",
      "museum_km                 museum_km                   1.000000\n",
      "shopping_centers_km       shopping_centers_km         1.000000\n",
      "exhibition_km             exhibition_km               1.000000\n",
      "additional_education_km   additional_education_km     1.000000\n",
      "university_km             university_km               1.000000\n",
      "preschool_km              preschool_km                1.000000\n",
      "school_km                 school_km                   1.000000\n",
      "kindergarten_km           kindergarten_km             1.000000\n",
      "park_km                   park_km                     1.000000\n",
      "stadium_km                stadium_km                  1.000000\n",
      "swim_pool_km              swim_pool_km                1.000000\n",
      "fitness_km                fitness_km                  1.000000\n",
      "theater_km                theater_km                  1.000000\n",
      "prices                    prices                      1.000000\n",
      "dtype: float64\n"
     ]
    },
    {
     "name": "stderr",
     "output_type": "stream",
     "text": [
      "/usr/local/lib/python2.7/dist-packages/ipykernel/__main__.py:4: FutureWarning: order is deprecated, use sort_values(...)\n"
     ]
    }
   ],
   "source": [
    "c = df.corr().abs()\n",
    "\n",
    "s = c.unstack()\n",
    "so = s.order(kind=\"quicksort\")\n",
    "\n",
    "print so"
   ]
  },
  {
   "cell_type": "code",
   "execution_count": 16,
   "metadata": {
    "collapsed": false,
    "deletable": true,
    "editable": true
   },
   "outputs": [],
   "source": [
    "from statsmodels.stats.outliers_influence import variance_inflation_factor\n",
    "from sklearn.base import BaseEstimator, TransformerMixin\n",
    "from sklearn.preprocessing import Imputer\n",
    "\n",
    "class ReduceVIF(BaseEstimator, TransformerMixin):\n",
    "    def __init__(self, thresh=5.0, impute=True, impute_strategy='median'):\n",
    "        # From looking at documentation, values between 5 and 10 are \"okay\".\n",
    "        # Above 10 is too high and so should be removed.\n",
    "        self.thresh = thresh\n",
    "        \n",
    "        # The statsmodel function will fail with NaN values, as such we have to impute them.\n",
    "        # By default we impute using the median value.\n",
    "        # This imputation could be taken out and added as part of an sklearn Pipeline.\n",
    "        if impute:\n",
    "            self.imputer = Imputer(strategy=impute_strategy)\n",
    "\n",
    "    def fit(self, X, y=None):\n",
    "        print('ReduceVIF fit')\n",
    "        if hasattr(self, 'imputer'):\n",
    "            self.imputer.fit(X)\n",
    "        return self\n",
    "\n",
    "    def transform(self, X, y=None):\n",
    "        print('ReduceVIF transform')\n",
    "        columns = X.columns.tolist()\n",
    "        if hasattr(self, 'imputer'):\n",
    "            X = pd.DataFrame(self.imputer.transform(X), columns=columns)\n",
    "        return ReduceVIF.calculate_vif(X, self.thresh)\n",
    "\n",
    "    @staticmethod\n",
    "    def calculate_vif(X, thresh=5.0):\n",
    "        # Taken from https://stats.stackexchange.com/a/253620/53565 and modified\n",
    "        dropped=True\n",
    "        while dropped:\n",
    "            # Loop repeatedly until we find that all columns within our dataset\n",
    "            # have a VIF value we're happy with.\n",
    "            variables = X.columns\n",
    "            dropped=False\n",
    "            vif = []\n",
    "            new_vif = 0\n",
    "            for var in X.columns:\n",
    "                new_vif = variance_inflation_factor(X[variables].values, X.columns.get_loc(var))\n",
    "                vif.append(new_vif)\n",
    "                if np.isinf(new_vif):\n",
    "                    break\n",
    "            max_vif = max(vif)\n",
    "            if max_vif > thresh:\n",
    "                maxloc = vif.index(max_vif)\n",
    "                print 'Dropping {} with vif={}'.format(X.columns[maxloc], max_vif)\n",
    "                X = X.drop([X.columns.tolist()[maxloc]], axis=1)\n",
    "                dropped=True\n",
    "        return X"
   ]
  },
  {
   "cell_type": "code",
   "execution_count": null,
   "metadata": {
    "collapsed": false,
    "deletable": true,
    "editable": true
   },
   "outputs": [],
   "source": [
    "labels = df['prices']\n",
    "X = df.drop('prices',1)\n",
    "y = labels"
   ]
  },
  {
   "cell_type": "code",
   "execution_count": null,
   "metadata": {
    "collapsed": false,
    "deletable": true,
    "editable": true
   },
   "outputs": [
    {
     "name": "stdout",
     "output_type": "stream",
     "text": [
      "ReduceVIF fit\n",
      "ReduceVIF transform\n"
     ]
    },
    {
     "name": "stderr",
     "output_type": "stream",
     "text": [
      "/usr/local/lib/python2.7/dist-packages/statsmodels/stats/outliers_influence.py:167: RuntimeWarning: divide by zero encountered in double_scalars\n",
      "  vif = 1. / (1. - r_squared_i)\n"
     ]
    },
    {
     "name": "stdout",
     "output_type": "stream",
     "text": [
      "Dropping {X.columns[maxloc]} with vif={max_vif}\n"
     ]
    }
   ],
   "source": [
    "transformer = ReduceVIF()\n",
    "\n",
    "# Only use 10 columns for speed in this example\n",
    "X = transformer.fit_transform(X, y)"
   ]
  },
  {
   "cell_type": "code",
   "execution_count": null,
   "metadata": {
    "collapsed": true,
    "deletable": true,
    "editable": true
   },
   "outputs": [],
   "source": [
    "X.info()"
   ]
  }
 ],
 "metadata": {
  "kernelspec": {
   "display_name": "Python 2",
   "language": "python",
   "name": "python2"
  },
  "language_info": {
   "codemirror_mode": {
    "name": "ipython",
    "version": 2
   },
   "file_extension": ".py",
   "mimetype": "text/x-python",
   "name": "python",
   "nbconvert_exporter": "python",
   "pygments_lexer": "ipython2",
   "version": "2.7.12"
  }
 },
 "nbformat": 4,
 "nbformat_minor": 2
}
